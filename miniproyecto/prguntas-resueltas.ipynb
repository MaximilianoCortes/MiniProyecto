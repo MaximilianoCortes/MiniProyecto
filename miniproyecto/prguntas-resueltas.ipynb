{
 "cells": [
  {
   "cell_type": "code",
   "execution_count": 1,
   "metadata": {},
   "outputs": [
    {
     "name": "stdout",
     "output_type": "stream",
     "text": [
      "Requirement already satisfied: pandas in c:\\users\\kivye\\mambaforge\\lib\\site-packages (2.2.2)\n",
      "Requirement already satisfied: numpy>=1.22.4 in c:\\users\\kivye\\mambaforge\\lib\\site-packages (from pandas) (1.26.4)\n",
      "Requirement already satisfied: python-dateutil>=2.8.2 in c:\\users\\kivye\\mambaforge\\lib\\site-packages (from pandas) (2.9.0)\n",
      "Requirement already satisfied: pytz>=2020.1 in c:\\users\\kivye\\mambaforge\\lib\\site-packages (from pandas) (2024.1)\n",
      "Requirement already satisfied: tzdata>=2022.7 in c:\\users\\kivye\\mambaforge\\lib\\site-packages (from pandas) (2024.1)\n",
      "Requirement already satisfied: six>=1.5 in c:\\users\\kivye\\mambaforge\\lib\\site-packages (from python-dateutil>=2.8.2->pandas) (1.16.0)\n"
     ]
    }
   ],
   "source": [
    "! pip install pandas"
   ]
  },
  {
   "cell_type": "markdown",
   "metadata": {},
   "source": [
    "1.\t**¿Qué porcentaje de trabajos requieren experiencia en 'Remote' o 'Hybrid' en comparación con los trabajos presenciales?**  \n",
    "Enfoque: Análisis de proporciones. Se calculará la proporción de trabajos remotos, híbridos y para obtener porcentajes exactos. (estaba en el ejemplo, pero fue literalmente el enfoque)\n"
   ]
  },
  {
   "cell_type": "code",
   "execution_count": 3,
   "metadata": {},
   "outputs": [
    {
     "name": "stdout",
     "output_type": "stream",
     "text": [
      "\n",
      "Porcentaje de trabajos 'Remote' o 'Hybrid': 65.57%\n"
     ]
    }
   ],
   "source": [
    "import pandas as pd\n",
    "\n",
    "# Cargar el archivo CSV en un DataFrame\n",
    "df = pd.read_csv('../data/all_jobs_data.csv')\n",
    "\n",
    "total_jobs = len(df)\n",
    "remote_or_hybrid_jobs = df[df['remote_modality'].isin(['fully_remote', 'hybrid'])].shape[0]\n",
    "percentage_remote_or_hybrid = (remote_or_hybrid_jobs / total_jobs) * 100\n",
    "print(f\"\\nPorcentaje de trabajos 'Remote' o 'Hybrid': {percentage_remote_or_hybrid:.2f}%\")\n"
   ]
  },
  {
   "cell_type": "markdown",
   "metadata": {},
   "source": [
    "2. **¿Cuáles son las tres habilidades más comúnmente solicitadas en la categoría de 'Data Science / Analytics'?**  \n",
    "Vamos a revisar la columna de skills (solo texto de descripción) y vamos a filtrar caracteres no deseados. Adicional a eso, haremos una lista de palabras clave que queremos excluir del conjunto más común. Una vez hecho esto, vamos a obtener la lista de trabajos y eliminaremos todos los que tengan el conjunto skills vacío. Luego, haremos una lista con todas las palabras y, después de filtrar las palabras comunes, contaremos cuántas veces aparece cada palabra y seleccionaremos las tres más comunes.\n"
   ]
  },
  {
   "cell_type": "code",
   "execution_count": 2,
   "metadata": {},
   "outputs": [
    {
     "name": "stdout",
     "output_type": "stream",
     "text": [
      "\n",
      "Tres palabras más comúnmente mencionadas en las descripciones de 'Data Science / Analytics':\n",
      "datos: 103\n",
      "sql: 47\n",
      "data: 38\n"
     ]
    }
   ],
   "source": [
    "import pandas as pd\n",
    "import re\n",
    "from collections import Counter\n",
    "\n",
    "# Cargar el archivo CSV en un DataFrame\n",
    "df = pd.read_csv('../data/all_jobs_data.csv')\n",
    "\n",
    "# Función para limpiar y extraer palabras de la columna skills\n",
    "def extract_words(skills):\n",
    "        words = re.sub(r'<[^>]+>', '', skills)  # Eliminar etiquetas HTML\n",
    "        words = re.sub(r'[^a-zA-Z0-9\\s]', '', words)  # Eliminar caracteres no alfanuméricos\n",
    "        return words.lower().split()\n",
    "\n",
    "    # Lista de palabras comunes a excluir\n",
    "stop_words = set(['li', 'p', 'de', 'en', 'y', 'br', 'con' ,'ul','experiencia','o','la','strong','para','el','a','como'])\n",
    "\n",
    "    # Filtrar trabajos de 'Data Science / Analytics'\n",
    "data_science_jobs = df[df['category'] == 'Data Science / Analytics'].dropna(subset=['skills'])\n",
    "\n",
    "    # Extraer y contar palabras\n",
    "all_words = data_science_jobs['skills'].apply(extract_words).explode()\n",
    "filtered_words = all_words[~all_words.isin(stop_words)]\n",
    "top_three_words = Counter(filtered_words).most_common(3)\n",
    "\n",
    "print(\"\\nTres palabras más comúnmente mencionadas en las descripciones de 'Data Science / Analytics':\")\n",
    "for word, count in top_three_words:\n",
    "    print(f\"{word}: {count}\")\n"
   ]
  },
  {
   "cell_type": "markdown",
   "metadata": {},
   "source": [
    "3. **¿Cuáles trabajos requieren certificaciones específicas (como PL-300 para Power BI)?**  \n",
    "Enfoque: Vamos a crear un set de keywords con palabras que representan certificaciones y revisaremos si estan en el campo skills (que es solo el texto del elemento description)\n",
    "iteramos por todos los trabajos y si existen subiremos el contador +1, además se extrae los company_name y skills y se muestran\n"
   ]
  },
  {
   "cell_type": "code",
   "execution_count": 8,
   "metadata": {},
   "outputs": [
    {
     "name": "stdout",
     "output_type": "stream",
     "text": [
      "\n",
      "Número de trabajos que requieren certificaciones específicas: 149\n",
      "\n",
      "Trabajos que requieren certificaciones específicas:\n"
     ]
    },
    {
     "data": {
      "text/html": [
       "<div>\n",
       "<style scoped>\n",
       "    .dataframe tbody tr th:only-of-type {\n",
       "        vertical-align: middle;\n",
       "    }\n",
       "\n",
       "    .dataframe tbody tr th {\n",
       "        vertical-align: top;\n",
       "    }\n",
       "\n",
       "    .dataframe thead th {\n",
       "        text-align: right;\n",
       "    }\n",
       "</style>\n",
       "<table border=\"1\" class=\"dataframe\">\n",
       "  <thead>\n",
       "    <tr style=\"text-align: right;\">\n",
       "      <th></th>\n",
       "      <th>id</th>\n",
       "      <th>company_name</th>\n",
       "      <th>skills</th>\n",
       "    </tr>\n",
       "  </thead>\n",
       "  <tbody>\n",
       "    <tr>\n",
       "      <th>3</th>\n",
       "      <td>desarrollador-power-bi-data-lake-y-bd-lisit-sa...</td>\n",
       "      <td>Lisit</td>\n",
       "      <td>div, para, el, cargo, a, postular, contamos, c...</td>\n",
       "    </tr>\n",
       "    <tr>\n",
       "      <th>12</th>\n",
       "      <td>data-governance-specialist-coderslab-io-buenos...</td>\n",
       "      <td>coderslab.io</td>\n",
       "      <td>p, conocimientos, br, cloud, aws, azure, o, gc...</td>\n",
       "    </tr>\n",
       "    <tr>\n",
       "      <th>14</th>\n",
       "      <td>arquitecto-de-datos-senior-hibrido-bogota-soph...</td>\n",
       "      <td>Sophos Solutions</td>\n",
       "      <td>p, requerimos, p, ul, li, profesional, en, en,...</td>\n",
       "    </tr>\n",
       "    <tr>\n",
       "      <th>20</th>\n",
       "      <td>ingeniero-a-bi-y-proyectos-copec-s-a-santiago</td>\n",
       "      <td>Copec S.A</td>\n",
       "      <td>ul, li, titulo, profesional, en, las, de, civi...</td>\n",
       "    </tr>\n",
       "    <tr>\n",
       "      <th>21</th>\n",
       "      <td>data-analyst-mas-analytics-santiago-b0ea</td>\n",
       "      <td>MAS Analytics</td>\n",
       "      <td>div, al, ser, en, necesitamos, que, tengas, ha...</td>\n",
       "    </tr>\n",
       "    <tr>\n",
       "      <th>...</th>\n",
       "      <td>...</td>\n",
       "      <td>...</td>\n",
       "      <td>...</td>\n",
       "    </tr>\n",
       "    <tr>\n",
       "      <th>917</th>\n",
       "      <td>lead-machine-learning-neuralworks-santiago</td>\n",
       "      <td>NeuralWorks</td>\n",
       "      <td>ul, li, al, menos, 4, de, experiencia, como, m...</td>\n",
       "    </tr>\n",
       "    <tr>\n",
       "      <th>918</th>\n",
       "      <td>generative-ai-consultancy-lead-softserve-remote</td>\n",
       "      <td>Softserve</td>\n",
       "      <td>h2, strong, if, you, are, br, strong, br, h2, ...</td>\n",
       "    </tr>\n",
       "    <tr>\n",
       "      <th>923</th>\n",
       "      <td>machine-learning-engineer-haystack-news-lima</td>\n",
       "      <td>Haystack News</td>\n",
       "      <td>ul, li, bachelor, s, degree, in, computer, sci...</td>\n",
       "    </tr>\n",
       "    <tr>\n",
       "      <th>924</th>\n",
       "      <td>machine-learning-engineer-interfell-remote</td>\n",
       "      <td>Interfell</td>\n",
       "      <td>ul, li, 3, de, experiencia, en, desarrollo, de...</td>\n",
       "    </tr>\n",
       "    <tr>\n",
       "      <th>925</th>\n",
       "      <td>computer-vision-consultant-kti-hunter-remote</td>\n",
       "      <td>KTI Hunter</td>\n",
       "      <td>h2, strong, experiencia, br, strong, br, h2, u...</td>\n",
       "    </tr>\n",
       "  </tbody>\n",
       "</table>\n",
       "<p>149 rows × 3 columns</p>\n",
       "</div>"
      ],
      "text/plain": [
       "                                                    id      company_name  \\\n",
       "3    desarrollador-power-bi-data-lake-y-bd-lisit-sa...             Lisit   \n",
       "12   data-governance-specialist-coderslab-io-buenos...      coderslab.io   \n",
       "14   arquitecto-de-datos-senior-hibrido-bogota-soph...  Sophos Solutions   \n",
       "20       ingeniero-a-bi-y-proyectos-copec-s-a-santiago         Copec S.A   \n",
       "21            data-analyst-mas-analytics-santiago-b0ea     MAS Analytics   \n",
       "..                                                 ...               ...   \n",
       "917         lead-machine-learning-neuralworks-santiago       NeuralWorks   \n",
       "918    generative-ai-consultancy-lead-softserve-remote         Softserve   \n",
       "923       machine-learning-engineer-haystack-news-lima     Haystack News   \n",
       "924         machine-learning-engineer-interfell-remote         Interfell   \n",
       "925       computer-vision-consultant-kti-hunter-remote        KTI Hunter   \n",
       "\n",
       "                                                skills  \n",
       "3    div, para, el, cargo, a, postular, contamos, c...  \n",
       "12   p, conocimientos, br, cloud, aws, azure, o, gc...  \n",
       "14   p, requerimos, p, ul, li, profesional, en, en,...  \n",
       "20   ul, li, titulo, profesional, en, las, de, civi...  \n",
       "21   div, al, ser, en, necesitamos, que, tengas, ha...  \n",
       "..                                                 ...  \n",
       "917  ul, li, al, menos, 4, de, experiencia, como, m...  \n",
       "918  h2, strong, if, you, are, br, strong, br, h2, ...  \n",
       "923  ul, li, bachelor, s, degree, in, computer, sci...  \n",
       "924  ul, li, 3, de, experiencia, en, desarrollo, de...  \n",
       "925  h2, strong, experiencia, br, strong, br, h2, u...  \n",
       "\n",
       "[149 rows x 3 columns]"
      ]
     },
     "execution_count": 8,
     "metadata": {},
     "output_type": "execute_result"
    }
   ],
   "source": [
    "import pandas as pd\n",
    "import re\n",
    "\n",
    "# Cargar el archivo CSV en un DataFrame\n",
    "df = pd.read_csv('../data/all_jobs_data.csv')\n",
    "\n",
    "# Lista de palabras clave para certificaciones específicas\n",
    "certification_keywords = ['pl-300', 'aws certified', 'pmp', 'cissp', 'scrum master', 'cfa', 'six sigma', 'aws']\n",
    "\n",
    "# Convertir todas las entradas de la columna 'skills' a minúsculas\n",
    "df['skills'] = df['skills'].str.lower()\n",
    "\n",
    "# Filtrar trabajos que requieren certificaciones específicas\n",
    "df['requires_certification'] = df['skills'].apply(lambda x: any(keyword in x for keyword in certification_keywords) if pd.notna(x) else False)\n",
    "certification_filtered = df[df['requires_certification']]\n",
    "\n",
    "# Contar trabajos que requieren certificaciones específicas\n",
    "certification_experience_count = certification_filtered.shape[0]\n",
    "\n",
    "print(f\"\\nNúmero de trabajos que requieren certificaciones específicas: {certification_experience_count}\")\n",
    "print(\"\\nTrabajos que requieren certificaciones específicas:\")\n",
    "certification_filtered[['id', 'company_name', 'skills']]\n"
   ]
  },
  {
   "cell_type": "markdown",
   "metadata": {},
   "source": [
    "4. **¿Qué porcentaje de trabajos requiere un nivel avanzado de inglés?**  \n",
    "\n",
    "Enfoque: Identificar las palabras clave comunes en las descripciones de habilidades que indican un nivel avanzado de inglés, luego contar los trabajos que mencionan estas palabras clave, y finalmente calcular la proporción de estos trabajos en relación con el total de trabajos disponibles.\n"
   ]
  },
  {
   "cell_type": "code",
   "execution_count": 4,
   "metadata": {},
   "outputs": [
    {
     "name": "stdout",
     "output_type": "stream",
     "text": [
      "\n",
      "Porcentaje de trabajos que requieren un nivel avanzado de inglés: 1.81%\n"
     ]
    }
   ],
   "source": [
    "import pandas as pd\n",
    "\n",
    "df = pd.read_csv('../data/all_jobs_data.csv')\n",
    "\n",
    "advanced_english_keywords = ['advanced, english', 'nivel, avanzado, de, inglés', 'english, proficiency', 'fluency, in, english', 'advanced, level, english','ingles, avanzado']\n",
    "\n",
    "if 'skills' in df.columns:\n",
    "    df.loc[:, 'skills'] = df['skills'].str.lower()\n",
    "    \n",
    "    advanced_english_count = df['skills'].apply(lambda x: any(keyword in x for keyword in advanced_english_keywords) if pd.notna(x) else False).sum()\n",
    "    \n",
    "    percentage_advanced_english = (advanced_english_count / len(df)) * 100\n",
    "    \n",
    "    print(f\"\\nPorcentaje de trabajos que requieren un nivel avanzado de inglés: {percentage_advanced_english:.2f}%\")\n",
    "else:\n",
    "    print(\"\\nNo se encontró la columna 'skills' en el dataset.\")"
   ]
  },
  {
   "cell_type": "markdown",
   "metadata": {},
   "source": [
    "5. **¿Cuántos trabajos requieren experiencia previa específica en la industria (por ejemplo, agrícola, ciberseguridad)?**  \n",
    "Enfoque: Vamos a crear un set de keywords con palabras que representan experiencia en la industria y revisaremos si estan en el campo skills (que es solo el texto del elemento description)\n",
    "iteramos por todos los trabajos y si existen subiremos el contador +1"
   ]
  },
  {
   "cell_type": "code",
   "execution_count": 5,
   "metadata": {},
   "outputs": [
    {
     "name": "stdout",
     "output_type": "stream",
     "text": [
      "\n",
      "Número de trabajos que requieren experiencia previa específica en la industria: 37\n"
     ]
    }
   ],
   "source": [
    "import pandas as pd\n",
    "import re\n",
    "\n",
    "# Cargar el archivo CSV en un DataFrame\n",
    "df = pd.read_csv('../data/all_jobs_data.csv')\n",
    "\n",
    "industry_keywords = ['agrícola', 'ciberseguridad', 'finanzas', 'salud', 'educación', 'tecnología']\n",
    "#a minusculas\n",
    "df['skills'] = df['skills'].str.lower()\n",
    "    \n",
    "#Obtener la cantidad de trabajos que requieren experiencia previa\n",
    "industry_experience_count = df['skills'].apply(lambda x: any(keyword in x for keyword in industry_keywords) if pd.notna(x) else False).sum()\n",
    "    \n",
    "print(f\"\\nNúmero de trabajos que requieren experiencia previa específica en la industria: {industry_experience_count}\")\n",
    "\n"
   ]
  },
  {
   "cell_type": "markdown",
   "metadata": {},
   "source": [
    "6. **¿Cuáles trabajos en 'Design / UX' requieren experiencia en herramientas específicas como Figma o Adobe Illustrator?**  \n",
    "Enfoque: armamos un set de keywords, con nombres de herramientas especificas, con los cuales vamos a iterar por la columna skills que tiene la del trabajo, de html convertida a texto.\n",
    "luego vamos a iterar por todos los trabajos filtrados de design ux y revisaremos si contiene alguna de las keywords"
   ]
  },
  {
   "cell_type": "code",
   "execution_count": 5,
   "metadata": {},
   "outputs": [
    {
     "name": "stdout",
     "output_type": "stream",
     "text": [
      "\n",
      "Número total de trabajos en 'Design / UX': 36\n",
      "Número de trabajos que requieren experiencia en herramientas específicas como Figma o Adobe Illustrator: 26\n",
      "\n",
      "Trabajos en 'Design / UX' que requieren experiencia en herramientas específicas como Figma o Adobe Illustrator:\n",
      "                                                    id  \\\n",
      "639                 disenador-a-grafico-a-lfi-santiago   \n",
      "640                      disenador-ux-ui-magnet-remote   \n",
      "641               product-designer-encuadrado-santiago   \n",
      "643       ui-and-graphic-designer-neuralworks-santiago   \n",
      "644                     ui-ux-designer-ensitech-remote   \n",
      "645  disenador-design-system-match-agencia-consulto...   \n",
      "649                   disenador-ui-ux-citolab-santiago   \n",
      "650  director-de-arte-freelance-match-agencia-consu...   \n",
      "652                product-designer-alegra-remote-79e5   \n",
      "653                    ux-ui-designer-sr-cmpc-santiago   \n",
      "654                  product-designer-lemontech-remote   \n",
      "655                 ux-ui-designer-moventi-remote-3811   \n",
      "656                  disenador-ux-ui-iconstruye-remote   \n",
      "659                        ux-ui-designer-moventi-lima   \n",
      "660                disenador-ux-ui-iconstruye-santiago   \n",
      "662                  ux-team-lead-foris-ai-remote-282f   \n",
      "663               product-designer-senior-stori-remote   \n",
      "664  ux-research-freelance-match-agencia-consultora...   \n",
      "665               ui-designer-junior-moventi-lima-7770   \n",
      "666            ux-ui-designer-junior-moventi-lima-d244   \n",
      "667  disenador-ui-freelance-match-agencia-consultor...   \n",
      "668                 ux-ui-designer-junior-moventi-lima   \n",
      "670                    ux-research-junior-moventi-lima   \n",
      "671                    ui-designer-junior-moventi-lima   \n",
      "673                      ux-ui-designer-moventi-remote   \n",
      "674     disenador-ux-ui-ingles-intermedio-smith-remote   \n",
      "\n",
      "                                                skills  \n",
      "639  ul, li, al, menos, 3, de, experiencia, en, tar...  \n",
      "640  ul, li, manejo, avanzado, de, figma, li, li, m...  \n",
      "641  ul, li, 3, de, experiencia, en, el, cargo, com...  \n",
      "643  ul, li, grado, universitario, en, integral, o,...  \n",
      "644  ul, li, 2, years, of, proven, experience, as, ...  \n",
      "645  ul, li, experiencia, previa, en, el, desarroll...  \n",
      "649  ul, li, experiencia, en, ux, ui, con, un, port...  \n",
      "650  ul, li, dominio, de, herramientas, de, y, de, ...  \n",
      "652  ul, li, en, carreras, como, strong, de, medios...  \n",
      "653  p, strong, strong, titulado, de, web, o, carre...  \n",
      "654  ul, li, experiencia, de, 2, como, product, des...  \n",
      "655  p, 2, de, experiencia, en, la, p, p, experienc...  \n",
      "656  ul, li, manejo, de, figma, maze, hotjar, jira,...  \n",
      "659  ul, li, experiencia, de, strong, 2, como, ux, ...  \n",
      "660  p, manejo, de, figma, maze, hotjar, jira, noti...  \n",
      "662  ul, li, profesional, en, li, li, 5, de, experi...  \n",
      "663  ul, li, english, advanced, language, skills, l...  \n",
      "664  ol, li, strong, y, strong, ul, li, universitar...  \n",
      "665  div, strong, 2, de, experiencia, como, ui, des...  \n",
      "666  div, experiencia, de, strong, 2, como, ux, ui,...  \n",
      "667  ul, li, experiencia, en, de, interfaces, de, u...  \n",
      "668  p, experiencia, de, strong, 1, como, ux, ui, d...  \n",
      "670  p, estudios, y, o, universitarios, en, la, car...  \n",
      "671  p, estudios, y, o, universitarios, en, la, car...  \n",
      "673  p, experiencia, de, strong, 01, strong, en, la...  \n",
      "674  ul, li, al, menos, 2, de, experiencia, como, v...  \n"
     ]
    },
    {
     "name": "stderr",
     "output_type": "stream",
     "text": [
      "C:\\Users\\Kivye\\AppData\\Local\\Temp\\ipykernel_16688\\1020322434.py:13: SettingWithCopyWarning: \n",
      "A value is trying to be set on a copy of a slice from a DataFrame.\n",
      "Try using .loc[row_indexer,col_indexer] = value instead\n",
      "\n",
      "See the caveats in the documentation: https://pandas.pydata.org/pandas-docs/stable/user_guide/indexing.html#returning-a-view-versus-a-copy\n",
      "  design_jobs['skills'] = design_jobs['skills'].str.lower()\n"
     ]
    }
   ],
   "source": [
    "import pandas as pd\n",
    "\n",
    "# Cargar el archivo CSV en un DataFrame\n",
    "df = pd.read_csv('../data/all_jobs_data.csv')\n",
    "\n",
    "# Palabras clave de herramientas de diseño\n",
    "design_tools_keywords = ['figma', 'adobe illustrator', 'sketch', 'photoshop']\n",
    "\n",
    "# Filtrar trabajos de 'Design / UX'\n",
    "design_jobs = df[df['category'] == 'Design / UX']\n",
    "\n",
    "# Convertir todas las entradas de la columna 'skills' a minúsculas\n",
    "design_jobs['skills'] = design_jobs['skills'].str.lower()\n",
    "\n",
    "# Filtrar trabajos que requieren experiencia en herramientas específicas\n",
    "specific_tools_experience = design_jobs[design_jobs['skills'].apply(lambda x: any(keyword in x for keyword in design_tools_keywords) if pd.notna(x) else False)]\n",
    "\n",
    "# Contador de trabajos totales y específicos\n",
    "total_design_jobs = len(design_jobs)\n",
    "specific_tools_count = len(specific_tools_experience)\n",
    "\n",
    "print(f\"\\nNúmero total de trabajos en 'Design / UX': {total_design_jobs}\")\n",
    "print(f\"Número de trabajos que requieren experiencia en herramientas específicas como Figma o Adobe Illustrator: {specific_tools_count}\")\n",
    "\n",
    "print(\"\\nTrabajos en 'Design / UX' que requieren experiencia en herramientas específicas como Figma o Adobe Illustrator:\")\n",
    "print(specific_tools_experience[['id', 'skills']])\n"
   ]
  },
  {
   "cell_type": "markdown",
   "metadata": {},
   "source": [
    "7. **¿Qué habilidades o tecnologías son más solicitadas en trabajos remotos en comparación con los trabajos presenciales?**  \n",
    "Enfoque: analizar y comparar las keywords mas solicitadas en trabajos remotos vs los trabajos presenciales, definimos la lista de keywords que serian tecnologias diferentes, en este caso figma, adobe, sketch (faltarian mas, pero sirven para el ejemplo) despues revisamos hacemos dos listas, una para las que son presenciales y otra para las que son remotas, luego hacemos una cuenta de cuantos trabajos incluyen las palabras claves y tambien hacemos un conteo de las palabras mas usadas, filtramos los conectores y etiquetas html para obtener lo que serian las experiencias requeridas. finalmente mostramos el numero total de trabajos remotos y presenciales vs el numero de trabajos en cada categoria que requieren tecnologias especificas y mostramos las cinco habilidades mas mencionadas en las descripciones de los trabajos\n"
   ]
  },
  {
   "cell_type": "code",
   "execution_count": 10,
   "metadata": {},
   "outputs": [
    {
     "name": "stdout",
     "output_type": "stream",
     "text": [
      "\n",
      "Número total de trabajos remotos: 617\n",
      "Número de trabajos remotos que requieren tecnologías específicas: 24\n",
      "\n",
      "Número total de trabajos presenciales: 324\n",
      "Número de trabajos presenciales que requieren tecnologías específicas: 15\n",
      "\n",
      "Habilidades más solicitadas en trabajos remotos:\n",
      "conocimiento: 397\n",
      "desarrollo: 326\n",
      "conocimientos: 323\n",
      "datos: 257\n",
      "experience: 240\n",
      "\n",
      "Habilidades más solicitadas en trabajos presenciales:\n",
      "desarrollo: 174\n",
      "datos: 158\n",
      "in: 151\n",
      "conocimiento: 144\n",
      "que: 141\n"
     ]
    }
   ],
   "source": [
    "import pandas as pd\n",
    "import re\n",
    "from collections import Counter\n",
    "\n",
    "# Cargar el archivo CSV en un DataFrame\n",
    "df = pd.read_csv('../data/all_jobs_data.csv')\n",
    "\n",
    "# Palabras clave de herramientas específicas\n",
    "tech_keywords = ['figma', 'adobe illustrator', 'sketch', 'photoshop']\n",
    "\n",
    "# Convertir todas las entradas de la columna 'skills' a minúsculas\n",
    "df['skills'] = df['skills'].str.lower()\n",
    "\n",
    "# Función para limpiar y extraer palabras de la columna skills\n",
    "def extract_words(skills):\n",
    "    words = re.sub(r'<[^>]+>', '', skills)  # Eliminar etiquetas HTML\n",
    "    words = re.sub(r'[^a-zA-Z0-9\\s]', '', words)  # Eliminar caracteres no alfanuméricos\n",
    "    return words.lower().split()\n",
    "\n",
    "# Lista de palabras comunes a excluir\n",
    "stop_words = set(['li', 'p', 'de', 'en', 'y', 'br', 'con', 'ul', 'experiencia', 'o', 'la', 'strong', 'para', 'el', 'a', 'como','div','and'])\n",
    "\n",
    "# Filtrar trabajos remotos y presenciales\n",
    "remote_jobs = df[df['remote_modality'].isin(['fully_remote', 'hybrid'])]\n",
    "on_site_jobs = df[~df['remote_modality'].isin(['fully_remote', 'hybrid'])]\n",
    "\n",
    "# Contar trabajos que requieren tecnologías específicas\n",
    "remote_tech_experience = remote_jobs[remote_jobs['skills'].apply(lambda x: any(keyword in x for keyword in tech_keywords) if pd.notna(x) else False)]\n",
    "on_site_tech_experience = on_site_jobs[on_site_jobs['skills'].apply(lambda x: any(keyword in x for keyword in tech_keywords) if pd.notna(x) else False)]\n",
    "\n",
    "# Contador de trabajos totales y específicos\n",
    "total_remote_jobs = len(remote_jobs)\n",
    "remote_tech_count = len(remote_tech_experience)\n",
    "\n",
    "total_on_site_jobs = len(on_site_jobs)\n",
    "on_site_tech_count = len(on_site_tech_experience)\n",
    "\n",
    "print(f\"\\nNúmero total de trabajos remotos: {total_remote_jobs}\")\n",
    "print(f\"Número de trabajos remotos que requieren tecnologías específicas: {remote_tech_count}\")\n",
    "\n",
    "print(f\"\\nNúmero total de trabajos presenciales: {total_on_site_jobs}\")\n",
    "print(f\"Número de trabajos presenciales que requieren tecnologías específicas: {on_site_tech_count}\")\n",
    "\n",
    "# Extraer y contar palabras para trabajos remotos\n",
    "remote_skills_words = remote_jobs['skills'].dropna().apply(extract_words).explode()\n",
    "remote_filtered_words = remote_skills_words[~remote_skills_words.isin(stop_words)]\n",
    "remote_words_counter = Counter(remote_filtered_words)\n",
    "top_remote_words = remote_words_counter.most_common(5)\n",
    "\n",
    "# Extraer y contar palabras para trabajos presenciales\n",
    "on_site_skills_words = on_site_jobs['skills'].dropna().apply(extract_words).explode()\n",
    "on_site_filtered_words = on_site_skills_words[~on_site_skills_words.isin(stop_words)]\n",
    "on_site_words_counter = Counter(on_site_filtered_words)\n",
    "top_on_site_words = on_site_words_counter.most_common(5)\n",
    "\n",
    "print(\"\\nHabilidades más solicitadas en trabajos remotos:\")\n",
    "for word, count in top_remote_words:\n",
    "    print(f\"{word}: {count}\")\n",
    "\n",
    "print(\"\\nHabilidades más solicitadas en trabajos presenciales:\")\n",
    "for word, count in top_on_site_words:\n",
    "    print(f\"{word}: {count}\")\n"
   ]
  },
  {
   "cell_type": "markdown",
   "metadata": {},
   "source": [
    "8. **¿Cuántos trabajos ofrecen beneficios relacionados con la salud (como seguro de salud o dental)?**  \n",
    "Enfoque: hacemos una lista de keywords y obtenemos la lista de perks que tiene cada trabajo, vamos a iterar por estas listas y compararemos con la lista de keywords para ver si existen, en caso de existir alguna de las keywords, sumaremos uno al contador, representando que incluye el perk.\n"
   ]
  },
  {
   "cell_type": "code",
   "execution_count": 6,
   "metadata": {},
   "outputs": [
    {
     "name": "stdout",
     "output_type": "stream",
     "text": [
      "\n",
      "Número de trabajos que ofrecen beneficios relacionados con la salud: 365\n"
     ]
    }
   ],
   "source": [
    "import pandas as pd\n",
    "import re\n",
    "\n",
    "# Cargar el archivo CSV en un DataFrame\n",
    "df = pd.read_csv('../data/all_jobs_data.csv')\n",
    "\n",
    "# Convertir todas las entradas de la columna 'perks' a minúsculas\n",
    "df['perks'] = df['perks'].str.lower()\n",
    "\n",
    "# Definir palabras clave relacionadas con beneficios de salud\n",
    "health_keywords = ['health', 'dental', 'seguro de salud', 'seguro dental', 'cobertura médica', 'beneficios médicos']\n",
    "\n",
    "# Contar trabajos que ofrecen beneficios relacionados con la salud\n",
    "health_benefits_count = df['perks'].apply(lambda x: any(keyword in x for keyword in health_keywords) if pd.notna(x) else False).sum()\n",
    "\n",
    "print(f\"\\nNúmero de trabajos que ofrecen beneficios relacionados con la salud: {health_benefits_count}\")\n"
   ]
  },
  {
   "cell_type": "markdown",
   "metadata": {},
   "source": [
    "9. **¿Cuántos trabajos se publicaron en el último mes?**  \n",
    "Enfoque: vamos a obtener el datetime de la columna published_at, luego vamos a compararlo con la fecha de 30 dias atras, si el published_at es mas nuevo que los 30 dias, se subira el contador, representando que fue publicada hace menos de un mes."
   ]
  },
  {
   "cell_type": "code",
   "execution_count": 7,
   "metadata": {},
   "outputs": [
    {
     "name": "stdout",
     "output_type": "stream",
     "text": [
      "\n",
      "Número de trabajos publicados en el último mes: 441\n"
     ]
    }
   ],
   "source": [
    "import pandas as pd\n",
    "from datetime import datetime, timedelta\n",
    "\n",
    "# Cargar el archivo CSV en un DataFrame\n",
    "df = pd.read_csv('../data/all_jobs_data.csv')\n",
    "\n",
    "# Convertir la columna 'published_at' a fechas\n",
    "df['published_at'] = pd.to_datetime(df['published_at'], unit='s')\n",
    "\n",
    "# Calcular la fecha de hace un mes\n",
    "one_month_ago = datetime.now() - timedelta(days=30)\n",
    "\n",
    "# Filtrar trabajos publicados en el último mes\n",
    "recent_jobs = df[df['published_at'] >= one_month_ago]\n",
    "\n",
    "print(f\"\\nNúmero de trabajos publicados en el último mes: {len(recent_jobs)}\")\n"
   ]
  },
  {
   "cell_type": "markdown",
   "metadata": {},
   "source": [
    "10. **¿Cuáles trabajos tienen la mayor cantidad de aplicaciones hasta la fecha?**  \n",
    "Enfoque: vamos a ordenar los trabajos en orden descendente, por el valor de la cantidad de aplicacionesl que ya incluye el json del trabajo\n"
   ]
  },
  {
   "cell_type": "code",
   "execution_count": 1,
   "metadata": {},
   "outputs": [
    {
     "name": "stdout",
     "output_type": "stream",
     "text": [
      "\n",
      "Trabajos con la mayor cantidad de aplicaciones hasta la fecha:\n"
     ]
    },
    {
     "data": {
      "text/html": [
       "<div>\n",
       "<style scoped>\n",
       "    .dataframe tbody tr th:only-of-type {\n",
       "        vertical-align: middle;\n",
       "    }\n",
       "\n",
       "    .dataframe tbody tr th {\n",
       "        vertical-align: top;\n",
       "    }\n",
       "\n",
       "    .dataframe thead th {\n",
       "        text-align: right;\n",
       "    }\n",
       "</style>\n",
       "<table border=\"1\" class=\"dataframe\">\n",
       "  <thead>\n",
       "    <tr style=\"text-align: right;\">\n",
       "      <th></th>\n",
       "      <th>id</th>\n",
       "      <th>applications_count</th>\n",
       "    </tr>\n",
       "  </thead>\n",
       "  <tbody>\n",
       "    <tr>\n",
       "      <th>53</th>\n",
       "      <td>analista-de-datos-forma-moovmedia-group-remote</td>\n",
       "      <td>3782</td>\n",
       "    </tr>\n",
       "    <tr>\n",
       "      <th>360</th>\n",
       "      <td>desarrollador-fronted-zeroq-remote</td>\n",
       "      <td>2500</td>\n",
       "    </tr>\n",
       "    <tr>\n",
       "      <th>486</th>\n",
       "      <td>desarrollador-de-software-gatblac-remote</td>\n",
       "      <td>1392</td>\n",
       "    </tr>\n",
       "    <tr>\n",
       "      <th>357</th>\n",
       "      <td>back-end-software-engineer-jr-foris-ai-remote-...</td>\n",
       "      <td>1333</td>\n",
       "    </tr>\n",
       "    <tr>\n",
       "      <th>711</th>\n",
       "      <td>mailing-marketing-forma-moovmedia-group-remote</td>\n",
       "      <td>1175</td>\n",
       "    </tr>\n",
       "  </tbody>\n",
       "</table>\n",
       "</div>"
      ],
      "text/plain": [
       "                                                    id  applications_count\n",
       "53      analista-de-datos-forma-moovmedia-group-remote                3782\n",
       "360                 desarrollador-fronted-zeroq-remote                2500\n",
       "486           desarrollador-de-software-gatblac-remote                1392\n",
       "357  back-end-software-engineer-jr-foris-ai-remote-...                1333\n",
       "711     mailing-marketing-forma-moovmedia-group-remote                1175"
      ]
     },
     "execution_count": 1,
     "metadata": {},
     "output_type": "execute_result"
    }
   ],
   "source": [
    "import pandas as pd\n",
    "\n",
    "# Cargar el archivo CSV en un DataFrame\n",
    "df = pd.read_csv('../data/all_jobs_data.csv')\n",
    "\n",
    "# Ordenar los trabajos por la cantidad de aplicaciones y obtener los top 5\n",
    "top_jobs = df[['id', 'applications_count']].sort_values(by='applications_count', ascending=False).head(5)\n",
    "\n",
    "print(\"\\nTrabajos con la mayor cantidad de aplicaciones hasta la fecha:\")\n",
    "top_jobs\n"
   ]
  }
 ],
 "metadata": {
  "kernelspec": {
   "display_name": "base",
   "language": "python",
   "name": "python3"
  },
  "language_info": {
   "codemirror_mode": {
    "name": "ipython",
    "version": 3
   },
   "file_extension": ".py",
   "mimetype": "text/x-python",
   "name": "python",
   "nbconvert_exporter": "python",
   "pygments_lexer": "ipython3",
   "version": "3.10.14"
  }
 },
 "nbformat": 4,
 "nbformat_minor": 2
}
